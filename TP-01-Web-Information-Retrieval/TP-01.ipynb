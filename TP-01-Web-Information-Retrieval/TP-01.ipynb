{
 "cells": [
  {
   "cell_type": "code",
   "execution_count": 3,
   "metadata": {},
   "outputs": [
    {
     "name": "stdout",
     "output_type": "stream",
     "text": [
      "Documents containing the query:\n",
      "- Information retrieval is a key field in computer science.\n",
      "- Information retrieval systems helop users find relevant documents.\n"
     ]
    }
   ],
   "source": [
    "def simple_information_retrieval(document, query):\n",
    "    \n",
    "    query = query.lower()\n",
    "    matching_documents = []\n",
    "\n",
    "    for doc in document:\n",
    "        if query in doc.lower():\n",
    "            matching_documents.append(doc)\n",
    "    \n",
    "    return matching_documents\n",
    "\n",
    "documents = [\"Information retrieval is a key field in computer science.\",\n",
    "            \"This document discuss machine learning and its applications.\",\n",
    "            \"Data retrieval and storage are crucial for modern information systems.\",\n",
    "            \"Information retrieval systems helop users find relevant documents.\"]\n",
    "\n",
    "query = \"information retrieval\"\n",
    "\n",
    "result = simple_information_retrieval(document=documents, query=query)\n",
    "\n",
    "print(\"Documents containing the query:\")\n",
    "\n",
    "for doc in result:\n",
    "    print(f\"- {doc}\")\n",
    "\n"
   ]
  },
  {
   "cell_type": "code",
   "execution_count": 4,
   "metadata": {},
   "outputs": [
    {
     "name": "stdout",
     "output_type": "stream",
     "text": [
      "Documents containing the query:\n",
      "- A swift auburn fox leaps over a sleepy canine.\n",
      "- The sleepy dog relaxes in the warm sun.\n"
     ]
    }
   ],
   "source": [
    "documents = [\n",
    "\"A swift auburn fox leaps over a sleepy canine.\",\n",
    "\"Data search heavily relies on information retrieval.\",\n",
    "\"Text comprehension is enhanced by natural language processing.\",\n",
    "\"The sleepy dog relaxes in the warm sun.\"\n",
    "]\n",
    "\n",
    "query = \"sleepy\"\n",
    "result2 = simple_information_retrieval(document=documents,query=query)\n",
    "\n",
    "print(\"Documents containing the query:\")\n",
    "\n",
    "for doc in result2:\n",
    "    print(f\"- {doc}\")"
   ]
  },
  {
   "cell_type": "code",
   "execution_count": null,
   "metadata": {},
   "outputs": [],
   "source": []
  }
 ],
 "metadata": {
  "kernelspec": {
   "display_name": "Python 3",
   "language": "python",
   "name": "python3"
  },
  "language_info": {
   "codemirror_mode": {
    "name": "ipython",
    "version": 3
   },
   "file_extension": ".py",
   "mimetype": "text/x-python",
   "name": "python",
   "nbconvert_exporter": "python",
   "pygments_lexer": "ipython3",
   "version": "3.11.8"
  }
 },
 "nbformat": 4,
 "nbformat_minor": 2
}
