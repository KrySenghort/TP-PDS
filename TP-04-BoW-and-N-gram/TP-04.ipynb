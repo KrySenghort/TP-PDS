{
 "cells": [
  {
   "cell_type": "code",
   "execution_count": 7,
   "metadata": {},
   "outputs": [
    {
     "name": "stdout",
     "output_type": "stream",
     "text": [
      "Sentence 1 Unigrams: ['today', 'is', 'a', 'beautiful', 'day', 'for', 'a', 'walk']\n",
      "Sentence 1 Bigrams: ['today is', 'is a', 'a beautiful', 'beautiful day', 'day for', 'for a', 'a walk']\n",
      "Sentence 2 Unigrams: ['the', 'weather', 'is', 'too', 'cloudy', 'for', 'a', 'picnic']\n",
      "Sentence 2 Bigrams: ['the weather', 'weather is', 'is too', 'too cloudy', 'cloudy for', 'for a', 'a picnic']\n"
     ]
    }
   ],
   "source": [
    "# Step 1: Import Libraries\n",
    "import pandas as pd\n",
    "import nltk\n",
    "from sklearn.feature_extraction.text import TfidfVectorizer\n",
    "from collections import Counter\n",
    "import string\n",
    "\n",
    "# Step 2: Download NLTK Resources\n",
    "#nltk.download('punkt')\n",
    "\n",
    "# Step 3: Define Sentences\n",
    "sentence1 = \"Today is a beautiful day for a walk.\"\n",
    "sentence2 = \"The weather is too cloudy for a picnic.\"\n",
    "\n",
    "# Step 4: Text Preprocessing Function\n",
    "def preprocess_text(text):\n",
    "    # Convert to lowercase\n",
    "    text = text.lower()\n",
    "    # Remove punctuation\n",
    "    text = text.translate(str.maketrans('', '', string.punctuation))\n",
    "    # Tokenize the text\n",
    "    tokens = nltk.word_tokenize(text)\n",
    "    return tokens\n",
    "\n",
    "# Step 5: Functions for Unigrams and Bigrams\n",
    "# Unigrams\n",
    "def find_unigrams(tokens):\n",
    "    return tokens\n",
    "\n",
    "# Bigrams\n",
    "def find_bigrams(tokens):\n",
    "    bigrams = list(nltk.bigrams(tokens))\n",
    "    return [' '.join(bigram) for bigram in bigrams]\n",
    "\n",
    "# Step 6: Apply Functions\n",
    "# Preprocess sentences\n",
    "tokens1 = preprocess_text(sentence1)\n",
    "tokens2 = preprocess_text(sentence2)\n",
    "\n",
    "# Find unigrams and bigrams for each sentence\n",
    "unigrams1 = find_unigrams(tokens1)\n",
    "bigrams1 = find_bigrams(tokens1)\n",
    "\n",
    "unigrams2 = find_unigrams(tokens2)\n",
    "bigrams2 = find_bigrams(tokens2)\n",
    "\n",
    "# Step 7: Print Results\n",
    "print(\"Sentence 1 Unigrams:\", unigrams1)\n",
    "print(\"Sentence 1 Bigrams:\", bigrams1)\n",
    "print(\"Sentence 2 Unigrams:\", unigrams2)\n",
    "print(\"Sentence 2 Bigrams:\", bigrams2)\n",
    "\n",
    "# Step 8: TF-IDF Vectorization\n",
    "# Create a TfidfVectorizer with a bigram focus\n",
    "vectorizer = TfidfVectorizer(ngram_range=(2, 2))\n",
    "\n",
    "# Fit the vectorizer on the sentences\n",
    "tfidf_matrix = vectorizer.fit_transform([sentence1, sentence2])"
   ]
  },
  {
   "cell_type": "code",
   "execution_count": 15,
   "metadata": {},
   "outputs": [
    {
     "name": "stdout",
     "output_type": "stream",
     "text": [
      "TF-IDF Matrix:\n"
     ]
    },
    {
     "data": {
      "text/html": [
       "<div>\n",
       "<style scoped>\n",
       "    .dataframe tbody tr th:only-of-type {\n",
       "        vertical-align: middle;\n",
       "    }\n",
       "\n",
       "    .dataframe tbody tr th {\n",
       "        vertical-align: top;\n",
       "    }\n",
       "\n",
       "    .dataframe thead th {\n",
       "        text-align: right;\n",
       "    }\n",
       "</style>\n",
       "<table border=\"1\" class=\"dataframe\">\n",
       "  <thead>\n",
       "    <tr style=\"text-align: right;\">\n",
       "      <th></th>\n",
       "      <th>beautiful day</th>\n",
       "      <th>cloudy for</th>\n",
       "      <th>day for</th>\n",
       "      <th>for picnic</th>\n",
       "      <th>for walk</th>\n",
       "      <th>is beautiful</th>\n",
       "      <th>is too</th>\n",
       "      <th>the weather</th>\n",
       "      <th>today is</th>\n",
       "      <th>too cloudy</th>\n",
       "      <th>weather is</th>\n",
       "    </tr>\n",
       "  </thead>\n",
       "  <tbody>\n",
       "    <tr>\n",
       "      <th>0</th>\n",
       "      <td>0.447214</td>\n",
       "      <td>0.000000</td>\n",
       "      <td>0.447214</td>\n",
       "      <td>0.000000</td>\n",
       "      <td>0.447214</td>\n",
       "      <td>0.447214</td>\n",
       "      <td>0.000000</td>\n",
       "      <td>0.000000</td>\n",
       "      <td>0.447214</td>\n",
       "      <td>0.000000</td>\n",
       "      <td>0.000000</td>\n",
       "    </tr>\n",
       "    <tr>\n",
       "      <th>1</th>\n",
       "      <td>0.000000</td>\n",
       "      <td>0.408248</td>\n",
       "      <td>0.000000</td>\n",
       "      <td>0.408248</td>\n",
       "      <td>0.000000</td>\n",
       "      <td>0.000000</td>\n",
       "      <td>0.408248</td>\n",
       "      <td>0.408248</td>\n",
       "      <td>0.000000</td>\n",
       "      <td>0.408248</td>\n",
       "      <td>0.408248</td>\n",
       "    </tr>\n",
       "  </tbody>\n",
       "</table>\n",
       "</div>"
      ],
      "text/plain": [
       "   beautiful day  cloudy for   day for  for picnic  for walk  is beautiful  \\\n",
       "0       0.447214    0.000000  0.447214    0.000000  0.447214      0.447214   \n",
       "1       0.000000    0.408248  0.000000    0.408248  0.000000      0.000000   \n",
       "\n",
       "     is too  the weather  today is  too cloudy  weather is  \n",
       "0  0.000000     0.000000  0.447214    0.000000    0.000000  \n",
       "1  0.408248     0.408248  0.000000    0.408248    0.408248  "
      ]
     },
     "execution_count": 15,
     "metadata": {},
     "output_type": "execute_result"
    }
   ],
   "source": [
    "# Step 9: Display TF-IDF Matrix\n",
    "print(\"TF-IDF Matrix:\")\n",
    "tfidf_df = pd.DataFrame(tfidf_matrix.toarray(), columns=vectorizer.get_feature_names_out())\n",
    "tfidf_df"
   ]
  },
  {
   "cell_type": "code",
   "execution_count": 14,
   "metadata": {},
   "outputs": [
    {
     "name": "stdout",
     "output_type": "stream",
     "text": [
      "Individual Bigram Scores:\n",
      "-----------------------------------\n",
      "Sentence 1 TF-IDF Scores:\n",
      "-----------------------------------\n",
      "beautiful day: 0.4472\n",
      "cloudy for: 0.0000\n",
      "day for: 0.4472\n",
      "for picnic: 0.0000\n",
      "for walk: 0.4472\n",
      "is beautiful: 0.4472\n",
      "is too: 0.0000\n",
      "the weather: 0.0000\n",
      "today is: 0.4472\n",
      "too cloudy: 0.0000\n",
      "weather is: 0.0000\n",
      "-----------------------------------\n",
      "Sentence 2 TF-IDF Scores:\n",
      "-----------------------------------\n",
      "beautiful day: 0.0000\n",
      "cloudy for: 0.4082\n",
      "day for: 0.0000\n",
      "for picnic: 0.4082\n",
      "for walk: 0.0000\n",
      "is beautiful: 0.0000\n",
      "is too: 0.4082\n",
      "the weather: 0.4082\n",
      "today is: 0.0000\n",
      "too cloudy: 0.4082\n",
      "weather is: 0.4082\n"
     ]
    }
   ],
   "source": [
    "print(\"Individual Bigram Scores:\")\n",
    "for sentence_index, sentence in enumerate([sentence1, sentence2]):\n",
    "    print('-----------------------------------')\n",
    "    print(f\"Sentence {sentence_index + 1} TF-IDF Scores:\")\n",
    "    print('-----------------------------------')\n",
    "    for bigram, score in zip(vectorizer.get_feature_names_out(), tfidf_matrix.toarray()[sentence_index]):\n",
    "        print(f\"{bigram}: {score:.4f}\")"
   ]
  },
  {
   "cell_type": "code",
   "execution_count": 19,
   "metadata": {},
   "outputs": [
    {
     "name": "stdout",
     "output_type": "stream",
     "text": [
      "Bag of Words Matrix:\n"
     ]
    },
    {
     "data": {
      "text/html": [
       "<div>\n",
       "<style scoped>\n",
       "    .dataframe tbody tr th:only-of-type {\n",
       "        vertical-align: middle;\n",
       "    }\n",
       "\n",
       "    .dataframe tbody tr th {\n",
       "        vertical-align: top;\n",
       "    }\n",
       "\n",
       "    .dataframe thead th {\n",
       "        text-align: right;\n",
       "    }\n",
       "</style>\n",
       "<table border=\"1\" class=\"dataframe\">\n",
       "  <thead>\n",
       "    <tr style=\"text-align: right;\">\n",
       "      <th></th>\n",
       "      <th>beautiful</th>\n",
       "      <th>cloudy</th>\n",
       "      <th>day</th>\n",
       "      <th>for</th>\n",
       "      <th>is</th>\n",
       "      <th>picnic</th>\n",
       "      <th>the</th>\n",
       "      <th>today</th>\n",
       "      <th>too</th>\n",
       "      <th>walk</th>\n",
       "      <th>weather</th>\n",
       "    </tr>\n",
       "  </thead>\n",
       "  <tbody>\n",
       "    <tr>\n",
       "      <th>Sentence 1</th>\n",
       "      <td>1</td>\n",
       "      <td>0</td>\n",
       "      <td>1</td>\n",
       "      <td>1</td>\n",
       "      <td>1</td>\n",
       "      <td>0</td>\n",
       "      <td>0</td>\n",
       "      <td>1</td>\n",
       "      <td>0</td>\n",
       "      <td>1</td>\n",
       "      <td>0</td>\n",
       "    </tr>\n",
       "    <tr>\n",
       "      <th>Sentence 2</th>\n",
       "      <td>0</td>\n",
       "      <td>1</td>\n",
       "      <td>0</td>\n",
       "      <td>1</td>\n",
       "      <td>1</td>\n",
       "      <td>1</td>\n",
       "      <td>1</td>\n",
       "      <td>0</td>\n",
       "      <td>1</td>\n",
       "      <td>0</td>\n",
       "      <td>1</td>\n",
       "    </tr>\n",
       "  </tbody>\n",
       "</table>\n",
       "</div>"
      ],
      "text/plain": [
       "            beautiful  cloudy  day  for  is  picnic  the  today  too  walk  \\\n",
       "Sentence 1          1       0    1    1   1       0    0      1    0     1   \n",
       "Sentence 2          0       1    0    1   1       1    1      0    1     0   \n",
       "\n",
       "            weather  \n",
       "Sentence 1        0  \n",
       "Sentence 2        1  "
      ]
     },
     "execution_count": 19,
     "metadata": {},
     "output_type": "execute_result"
    }
   ],
   "source": [
    "# Step 1: Import Required Libraries\n",
    "from sklearn.feature_extraction.text import CountVectorizer\n",
    "import pandas as pd\n",
    "\n",
    "# Step 2: Define Sentences\n",
    "sentences = [\n",
    "    \"Today is a beautiful day for a walk.\",\n",
    "    \"The weather is too cloudy for a picnic.\"\n",
    "]\n",
    "\n",
    "# Step 3: Preprocess (Optional)\n",
    "# CountVectorizer has lowercase=True by default, so it will automatically ignore case.\n",
    "\n",
    "# Step 4: Create CountVectorizer\n",
    "# Initialize CountVectorizer to convert sentences into BoW format\n",
    "vectorizer = CountVectorizer()\n",
    "\n",
    "# Step 5: Fit and Transform Sentences\n",
    "# Fit the vectorizer on the sentences to learn the vocabulary, then transform the sentences into BoW vectors\n",
    "bow_matrix = vectorizer.fit_transform(sentences)\n",
    "\n",
    "# Step 6: Display Results\n",
    "# Convert the matrix to a DataFrame for better readability\n",
    "bow_df = pd.DataFrame(bow_matrix.toarray(), columns=vectorizer.get_feature_names_out(), index=[\"Sentence 1\", \"Sentence 2\"])\n",
    "print(\"Bag of Words Matrix:\")\n",
    "bow_df"
   ]
  },
  {
   "cell_type": "code",
   "execution_count": 20,
   "metadata": {},
   "outputs": [
    {
     "name": "stdout",
     "output_type": "stream",
     "text": [
      "\n",
      "Vocabulary (Feature Names):\n"
     ]
    },
    {
     "data": {
      "text/plain": [
       "array(['beautiful', 'cloudy', 'day', 'for', 'is', 'picnic', 'the',\n",
       "       'today', 'too', 'walk', 'weather'], dtype=object)"
      ]
     },
     "execution_count": 20,
     "metadata": {},
     "output_type": "execute_result"
    }
   ],
   "source": [
    "print(\"\\nVocabulary (Feature Names):\")\n",
    "vectorizer.get_feature_names_out()"
   ]
  },
  {
   "cell_type": "code",
   "execution_count": null,
   "metadata": {},
   "outputs": [],
   "source": []
  }
 ],
 "metadata": {
  "kernelspec": {
   "display_name": "Python 3",
   "language": "python",
   "name": "python3"
  },
  "language_info": {
   "codemirror_mode": {
    "name": "ipython",
    "version": 3
   },
   "file_extension": ".py",
   "mimetype": "text/x-python",
   "name": "python",
   "nbconvert_exporter": "python",
   "pygments_lexer": "ipython3",
   "version": "3.11.8"
  }
 },
 "nbformat": 4,
 "nbformat_minor": 2
}
